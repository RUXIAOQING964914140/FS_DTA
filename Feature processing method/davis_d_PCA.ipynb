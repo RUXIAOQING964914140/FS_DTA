{
 "cells": [
  {
   "cell_type": "code",
   "execution_count": 2,
   "id": "cfb55f65",
   "metadata": {},
   "outputs": [],
   "source": [
    "import numpy as np\n",
    "from sklearn.decomposition import PCA"
   ]
  },
  {
   "cell_type": "code",
   "execution_count": 2,
   "id": "df7ec9fd",
   "metadata": {},
   "outputs": [],
   "source": [
    "X = np.loadtxt(\"my_VarianceThreshold/Davis_d_VT_Xnew.txt\")"
   ]
  },
  {
   "cell_type": "code",
   "execution_count": 8,
   "id": "e8894a1c",
   "metadata": {},
   "outputs": [
    {
     "data": {
      "text/plain": [
       "(30056, 3154)"
      ]
     },
     "execution_count": 8,
     "metadata": {},
     "output_type": "execute_result"
    }
   ],
   "source": [
    "X.shape"
   ]
  },
  {
   "cell_type": "code",
   "execution_count": 4,
   "id": "32b31b4b",
   "metadata": {},
   "outputs": [
    {
     "data": {
      "text/plain": [
       "(30056, 620)"
      ]
     },
     "execution_count": 4,
     "metadata": {},
     "output_type": "execute_result"
    }
   ],
   "source": [
    "X = np.loadtxt(\"my_PCA/davis_d_PCA_Xnew.txt\")\n",
    "X.shape"
   ]
  },
  {
   "cell_type": "code",
   "execution_count": 4,
   "id": "fca94adb",
   "metadata": {},
   "outputs": [],
   "source": [
    "clf = PCA(n_components='mle',svd_solver='full')\n",
    "clf.fit(X)\n",
    "newX=clf.fit_transform(X)"
   ]
  },
  {
   "cell_type": "code",
   "execution_count": 5,
   "id": "334a1b1c",
   "metadata": {},
   "outputs": [
    {
     "name": "stdout",
     "output_type": "stream",
     "text": [
      "[[ 6.33278258e-01 -3.09521454e+00  7.83582297e-01 ...  7.51358151e-04\n",
      "   1.95106561e-04  3.64445365e-04]\n",
      " [ 7.93267027e+00 -2.86257364e+00  1.11204955e+00 ...  1.00400945e-03\n",
      "   2.74415589e-03  1.72227607e-03]\n",
      " [ 7.92684991e+00 -2.84500613e+00  1.13085739e+00 ... -1.93018002e-03\n",
      "  -1.32739925e-03  2.33373935e-04]\n",
      " ...\n",
      " [ 2.21696941e-01  4.70399796e+00  6.30354153e+00 ...  5.28525460e-04\n",
      "   2.98511732e-04  4.87602424e-04]\n",
      " [ 2.75344970e+00  4.65277881e+00  6.19209405e+00 ... -7.70351267e-04\n",
      "   6.89209813e-04  2.41056795e-04]\n",
      " [ 4.00594378e+00  4.83420175e+00  6.48124499e+00 ... -4.62158009e-04\n",
      "  -1.93784041e-03  7.14646222e-04]]\n"
     ]
    }
   ],
   "source": [
    "print(newX)"
   ]
  },
  {
   "cell_type": "code",
   "execution_count": 6,
   "id": "25397e2e",
   "metadata": {},
   "outputs": [
    {
     "data": {
      "text/plain": [
       "array([0.28491176, 0.47076471, 0.32713235, ..., 0.17330074, 0.1706251 ,\n",
       "       0.17288202])"
      ]
     },
     "execution_count": 6,
     "metadata": {},
     "output_type": "execute_result"
    }
   ],
   "source": [
    "clf.mean_"
   ]
  },
  {
   "cell_type": "code",
   "execution_count": 7,
   "id": "3f6a187d",
   "metadata": {},
   "outputs": [],
   "source": [
    "c = np.savetxt(\"my_PCA/davis_d_PCA_Xnew.txt\",newX,fmt='%.03f')\n",
    "d = np.savetxt(\"my_PCA/davis_d_PCA_Xnew_mean_.txt\",clf.mean_,fmt='%.07f')"
   ]
  },
  {
   "cell_type": "code",
   "execution_count": 9,
   "id": "99d7c588",
   "metadata": {},
   "outputs": [
    {
     "data": {
      "text/plain": [
       "(30056, 620)"
      ]
     },
     "execution_count": 9,
     "metadata": {},
     "output_type": "execute_result"
    }
   ],
   "source": [
    "newX.shape"
   ]
  },
  {
   "cell_type": "code",
   "execution_count": null,
   "id": "8dc25565",
   "metadata": {},
   "outputs": [],
   "source": []
  }
 ],
 "metadata": {
  "kernelspec": {
   "display_name": "aaa",
   "language": "python",
   "name": "aaa"
  },
  "language_info": {
   "codemirror_mode": {
    "name": "ipython",
    "version": 3
   },
   "file_extension": ".py",
   "mimetype": "text/x-python",
   "name": "python",
   "nbconvert_exporter": "python",
   "pygments_lexer": "ipython3",
   "version": "3.9.13"
  }
 },
 "nbformat": 4,
 "nbformat_minor": 5
}
