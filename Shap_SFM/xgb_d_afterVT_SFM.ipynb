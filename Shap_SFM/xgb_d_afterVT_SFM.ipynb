{
 "cells": [
  {
   "cell_type": "code",
   "execution_count": 1,
   "id": "45830ee9",
   "metadata": {},
   "outputs": [],
   "source": [
    "#基于树的特征选择\n",
    "from sklearn.ensemble import GradientBoostingRegressor\n",
    "from sklearn.datasets import load_iris\n",
    "from sklearn.feature_selection import SelectFromModel\n",
    "from sklearn.ensemble import AdaBoostRegressor\n",
    "from sklearn.ensemble import RandomForestRegressor\n",
    "from sklearn.ensemble import VotingRegressor\n",
    "from sklearn.neighbors import KNeighborsRegressor\n",
    "import numpy as np\n",
    "import pandas as pd\n",
    "from sklearn.model_selection import GridSearchCV\n",
    "import xgboost as xgb\n",
    "from sklearn.metrics import mean_absolute_error"
   ]
  },
  {
   "cell_type": "code",
   "execution_count": 2,
   "id": "ccf2842a",
   "metadata": {},
   "outputs": [],
   "source": [
    "#基于davis特征数据VT处理后的特征进行树的特征选择\n",
    "#X = np.loadtxt(\"all_ssaf_asaf_gaaf_aaaf.csv\",delimiter = \",\",skiprows=1)\n",
    "X = np.loadtxt(\"train_Davis_d_VT_Xnew.txt\")\n",
    "\n",
    "y = np.loadtxt(\"train_affi.txt\")"
   ]
  },
  {
   "cell_type": "code",
   "execution_count": 3,
   "id": "b16776a5",
   "metadata": {},
   "outputs": [],
   "source": [
    "params = {\n",
    "    \"n_estimators\": 800,\n",
    "    \"max_depth\": 5,\n",
    "    \n",
    "    \"learning_rate\": 0.06\n",
    "    \n",
    "}"
   ]
  },
  {
   "cell_type": "code",
   "execution_count": 4,
   "id": "90248ccd",
   "metadata": {},
   "outputs": [
    {
     "data": {
      "text/plain": [
       "XGBRegressor(base_score=0.5, booster='gbtree', colsample_bylevel=1,\n",
       "             colsample_bynode=1, colsample_bytree=1, enable_categorical=False,\n",
       "             gamma=0, gpu_id=-1, importance_type=None,\n",
       "             interaction_constraints='', learning_rate=0.06, max_delta_step=0,\n",
       "             max_depth=5, min_child_weight=1, missing=nan,\n",
       "             monotone_constraints='()', n_estimators=800, n_jobs=112,\n",
       "             num_parallel_tree=1, predictor='auto', random_state=0, reg_alpha=0,\n",
       "             reg_lambda=1, scale_pos_weight=1, subsample=1, tree_method='exact',\n",
       "             validate_parameters=1, verbosity=None)"
      ]
     },
     "execution_count": 4,
     "metadata": {},
     "output_type": "execute_result"
    }
   ],
   "source": [
    "xgb_m = xgb.XGBRegressor(**params)\n",
    "xgb_m.fit(X, y)"
   ]
  },
  {
   "cell_type": "code",
   "execution_count": 7,
   "id": "55c0a088",
   "metadata": {},
   "outputs": [],
   "source": [
    "model = SelectFromModel(xgb_m,prefit=True)"
   ]
  },
  {
   "cell_type": "code",
   "execution_count": 8,
   "id": "e00dff4b",
   "metadata": {},
   "outputs": [],
   "source": [
    "X_new = model.transform(X)"
   ]
  },
  {
   "cell_type": "code",
   "execution_count": 9,
   "id": "50474b46",
   "metadata": {},
   "outputs": [],
   "source": [
    "c = np.savetxt(\"my_xgb_selectfrommodel/davis_d_xgb_Xnew_sfm.txt\",X_new,fmt='%.03f')"
   ]
  },
  {
   "cell_type": "code",
   "execution_count": null,
   "id": "75e0a7ab",
   "metadata": {},
   "outputs": [],
   "source": []
  }
 ],
 "metadata": {
  "kernelspec": {
   "display_name": "Python 3 (ipykernel)",
   "language": "python",
   "name": "python3"
  },
  "language_info": {
   "codemirror_mode": {
    "name": "ipython",
    "version": 3
   },
   "file_extension": ".py",
   "mimetype": "text/x-python",
   "name": "python",
   "nbconvert_exporter": "python",
   "pygments_lexer": "ipython3",
   "version": "3.7.15"
  }
 },
 "nbformat": 4,
 "nbformat_minor": 5
}
