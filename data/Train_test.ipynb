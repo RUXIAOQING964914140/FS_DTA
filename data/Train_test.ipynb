{
 "cells": [
  {
   "cell_type": "code",
   "execution_count": 2,
   "id": "5182605c",
   "metadata": {},
   "outputs": [],
   "source": [
    "import linecache\n",
    "import pandas as pd\n",
    "import numpy as np"
   ]
  },
  {
   "cell_type": "code",
   "execution_count": 4,
   "id": "cc2df68f",
   "metadata": {},
   "outputs": [],
   "source": [
    "#输入有id的文件\n",
    "fm = open (\"folds/train_sort.txt\")\n",
    "m = fm.readlines()\n",
    "m = list(map(int,m))\n",
    "#输入含有所有样本的文件\n",
    "fb = open (\"Davis_d_VT_Xnew.txt\")\n",
    "b = fb.readlines()\n",
    "fc = open(\"train_Davis_d_VT_Xnew.txt\",\"w\")\n",
    "for i in m:\n",
    "    fc.write(b[i])\n",
    "fc.close()"
   ]
  },
  {
   "cell_type": "code",
   "execution_count": 5,
   "id": "86041a0a",
   "metadata": {},
   "outputs": [],
   "source": [
    "#输入有id的文件\n",
    "fm = open (\"folds/test_sort.txt\")\n",
    "m = fm.readlines()\n",
    "m = list(map(int,m))\n",
    "#输入含有所有样本的文件\n",
    "fb = open (\"Davis_d_VT_Xnew.txt\")\n",
    "b = fb.readlines()\n",
    "fc = open(\"test_Davis_d_VT_Xnew.txt\",\"w\")\n",
    "for i in m:\n",
    "    fc.write(b[i])\n",
    "fc.close()"
   ]
  },
  {
   "cell_type": "code",
   "execution_count": 6,
   "id": "31152f6e",
   "metadata": {},
   "outputs": [],
   "source": [
    "#输入有id的文件\n",
    "fm = open (\"folds/train_sort.txt\")\n",
    "m = fm.readlines()\n",
    "m = list(map(int,m))\n",
    "#输入含有所有样本的文件\n",
    "fb = open (\"affi.txt\")\n",
    "b = fb.readlines()\n",
    "fc = open(\"train_affi.txt\",\"w\")\n",
    "for i in m:\n",
    "    fc.write(b[i])\n",
    "fc.close()"
   ]
  },
  {
   "cell_type": "code",
   "execution_count": 7,
   "id": "6de76a46",
   "metadata": {},
   "outputs": [],
   "source": [
    "#输入有id的文件\n",
    "fm = open (\"folds/test_sort.txt\")\n",
    "m = fm.readlines()\n",
    "m = list(map(int,m))\n",
    "#输入含有所有样本的文件\n",
    "fb = open (\"affi.txt\")\n",
    "b = fb.readlines()\n",
    "fc = open(\"test_affi.txt\",\"w\")\n",
    "for i in m:\n",
    "    fc.write(b[i])\n",
    "fc.close()"
   ]
  },
  {
   "cell_type": "code",
   "execution_count": null,
   "id": "822858be",
   "metadata": {},
   "outputs": [],
   "source": []
  }
 ],
 "metadata": {
  "kernelspec": {
   "display_name": "aaa",
   "language": "python",
   "name": "aaa"
  },
  "language_info": {
   "codemirror_mode": {
    "name": "ipython",
    "version": 3
   },
   "file_extension": ".py",
   "mimetype": "text/x-python",
   "name": "python",
   "nbconvert_exporter": "python",
   "pygments_lexer": "ipython3",
   "version": "3.9.13"
  }
 },
 "nbformat": 4,
 "nbformat_minor": 5
}
