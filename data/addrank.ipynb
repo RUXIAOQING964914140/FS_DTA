{
 "cells": [
  {
   "cell_type": "code",
   "execution_count": 1,
   "id": "79f08c47",
   "metadata": {},
   "outputs": [],
   "source": [
    "input_file = \"davis_d_PCA_Xnew.txt\"\n",
    "output_file = \"R_davis_d_PCA_Xnew.txt\"\n",
    "fout = open(output_file, \"w\")\n",
    "with open(input_file) as fin:\n",
    "    for line in fin:\n",
    "        if ':' in line:\n",
    "            fout.write(line)\n",
    "        else:\n",
    "            n = 0\n",
    "            for i in line.split():\n",
    "                if n != 0:\n",
    "                    fout.write(' ')\n",
    "                n += 1\n",
    "                fout.write(str(n)+':' + i )\n",
    "            fout.write('\\n')\n",
    "fout.close()"
   ]
  },
  {
   "cell_type": "code",
   "execution_count": null,
   "id": "f630bf0d",
   "metadata": {},
   "outputs": [],
   "source": []
  }
 ],
 "metadata": {
  "kernelspec": {
   "display_name": "aaa",
   "language": "python",
   "name": "aaa"
  },
  "language_info": {
   "codemirror_mode": {
    "name": "ipython",
    "version": 3
   },
   "file_extension": ".py",
   "mimetype": "text/x-python",
   "name": "python",
   "nbconvert_exporter": "python",
   "pygments_lexer": "ipython3",
   "version": "3.9.13"
  }
 },
 "nbformat": 4,
 "nbformat_minor": 5
}
